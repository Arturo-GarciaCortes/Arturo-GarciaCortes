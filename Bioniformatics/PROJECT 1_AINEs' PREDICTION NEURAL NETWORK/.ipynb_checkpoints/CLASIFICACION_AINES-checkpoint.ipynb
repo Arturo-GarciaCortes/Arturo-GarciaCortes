{
 "cells": [
  {
   "cell_type": "markdown",
   "id": "1fb039e8-e689-4f2f-b75b-79fcfd27e05e",
   "metadata": {},
   "source": [
    "ALGORITMO DE REGRESIÓN LOGÍSTICA PARA LA CLASIFICACIÓN DE MOLÉCULAS AINE's"
   ]
  },
  {
   "cell_type": "markdown",
   "id": "8c878f54-004f-4634-b0fd-27b979cd9ce5",
   "metadata": {
    "tags": []
   },
   "source": [
    "Importamos las principales librerías a utilizar.-"
   ]
  },
  {
   "cell_type": "code",
   "execution_count": 3,
   "id": "089aecc7-1db3-42c8-b87b-908ae0504200",
   "metadata": {
    "tags": []
   },
   "outputs": [
    {
     "name": "stdout",
     "output_type": "stream",
     "text": [
      "            COMPUESTO                                             SMILES  \\\n",
      "0         Etofenamato            FC(F)(F)c1cc(Nc2ccccc2C(OCCOCCO)=O)ccc1   \n",
      "1          Oxaprozina              o1c(c(nc1CCC(O)=O)-c1ccccc1)-c1ccccc1   \n",
      "2         Halcinonido  ClCC(=O)[C@@]12OC(O[C@@H]1C[C@H]1[C@@H]3CCC4=C...   \n",
      "3        Fluocinolona  F[C@@]12[C@H]([C@@H]3C[C@H]4OC(O[C@@]4(C(=O)CO...   \n",
      "4          Lornoxicam     Clc1sc2c(S(=O)(=O)N(C)C(C(=O)Nc3ncccc3)=C2O)c1   \n",
      "5          Mefenamico                        OC(=O)c1ccccc1Nc1cccc(C)c1C   \n",
      "6        Meprednisona  O=C1C=C2CC[C@@H]3[C@@H]([C@]2(C=C1)C)C(=O)C[C@...   \n",
      "7            Tomeltin                OC(=O)Cc1n(C)c(cc1)C(=O)c1ccc(cc1)C   \n",
      "8       Meclofenamato                   Clc1c(Nc2ccccc2C(O)=O)c(Cl)ccc1C   \n",
      "9         Deflazacort  O1[C@@H]2C[C@H]3[C@H]4[C@@H]([C@@]5(C(=CC(=O)C...   \n",
      "10         Mometasona  Cl[C@@]12[C@H]([C@@H]3C[C@@H](C)[C@](O)(C(=O)C...   \n",
      "11         Diflunisal                   Fc1cc(F)ccc1-c1cc(C(O)=O)c(O)cc1   \n",
      "12         Tiaprofeno                   s1c(ccc1C(C(O)=O)C)C(=O)c1ccccc1   \n",
      "13      Beclometasona  Cl[C@@]12[C@H]([C@@H]3C[C@H](C)[C@](O)(C(=O)CO...   \n",
      "14        Ciclesonida  O1[C@@H](O[C@@H]2C[C@H]3[C@H]4[C@@H]([C@@]5(C(...   \n",
      "15          Tenoxicam       s1c2c(S(=O)(=O)N(C)C(C(=O)Nc3ncccc3)=C2O)cc1   \n",
      "16         Etoricoxib    Clc1cc(c(nc1)-c1ccc(nc1)C)-c1ccc(S(=O)(=O)C)cc1   \n",
      "17        Fluticasona  S(C(=O)[C@]1(O)[C@@]2([C@H]([C@@H]3C[C@H](F)C4...   \n",
      "18       Aceclofenaco              Clc1cccc(Cl)c1Nc1ccccc1CC(OCC(O)=O)=O   \n",
      "19         Nabumetona                     O(C)c1cc2c(cc(cc2)CCC(=O)C)cc1   \n",
      "20           Desonida  O1[C@@]2([C@H](OC1(C)C)C[C@H]1[C@H]3[C@@H]([C@...   \n",
      "21         Clobetasol  ClCC(=O)[C@]1(O)[C@@]2([C@H]([C@@H]3CCC4=CC(=O...   \n",
      "22     Fludocortisona  F[C@@]12[C@H]([C@@H]3CC[C@](O)(C(=O)CO)[C@]3(C...   \n",
      "23          Piroxicam      S1(=O)(=O)N(C)C(C(=O)Nc2ncccc2)=C(O)c2c1cccc2   \n",
      "24  Metilprednisolona  O=C1C=C2[C@@]([C@@H]3[C@H]([C@@H]4CC[C@](O)(C(...   \n",
      "25        Triamsilona  F[C@@]12[C@H]([C@@H]3C[C@@H](O)[C@](O)(C(=O)CO...   \n",
      "26       Betametasona  F[C@@]12[C@H]([C@@H]3C[C@H](C)[C@](O)(C(=O)CO)...   \n",
      "27         Prednisona  O=C1C=C2CC[C@@H]3[C@@H]([C@]2(C=C1)C)C(=O)C[C@...   \n",
      "28     Hidrocortisona  O=C1CC[C@@]2([C@@H]3[C@H]([C@@H]4CC[C@](O)(C(=...   \n",
      "29       Dexametasona  F[C@@]12[C@H]([C@@H]3C[C@@H](C)[C@](O)(C(=O)CO...   \n",
      "30         Ketorolaco                    OC(=O)C1CCn2c1ccc2C(=O)c1ccccc1   \n",
      "31         Ibuprofeno                         OC(=O)C(C)c1ccc(cc1)CC(C)C   \n",
      "32          Naproxeno              O(C)c1cc2c(cc(cc2)[C@@H](C(O)=O)C)cc1   \n",
      "33        Diclofenaco                     Clc1cccc(Cl)c1Nc1ccccc1CC(O)=O   \n",
      "34         Nimesulida       S(=O)(=O)(Nc1ccc([N+](=O)[O-])cc1Oc1ccccc1)C   \n",
      "35           Aspirina                            O(C(=O)C)c1ccccc1C(O)=O   \n",
      "36          Etodolaco              O1CCc2c([nH]c3c2cccc3CC)C1(CC(O)=O)CC   \n",
      "37          Celecoxib  S(=O)(=O)(N)c1ccc(-n2nc(cc2-c2ccc(cc2)C)C(F)(F...   \n",
      "38       Indometacina     Clc1ccc(cc1)C(=O)n1c2c(cc(OC)cc2)c(CC(O)=O)c1C   \n",
      "39          Meloxicam     s1c(cnc1NC(=O)C=1N(S(=O)(=O)c2c(cccc2)C=1O)C)C   \n",
      "\n",
      "    A_HYD      DENS  REACT    SLOGP      VOL  AINE  \n",
      "0      20  1.122029      0  3.92620  313.000     1  \n",
      "1      15  0.999378      0  4.02577  278.375     1  \n",
      "2      23  1.281910      1  3.88930  329.750     0  \n",
      "3      23  1.292285      1  2.36680  326.750     0  \n",
      "4      13  1.295416      0  2.29590  279.250     1  \n",
      "5      14  0.959873      0  3.74524  235.625     1  \n",
      "6      19  1.148893      1  2.01180  299.625     0  \n",
      "7      13  0.980441      1  2.55079  247.000     1  \n",
      "8      15  1.173711      0  4.74362  242.875     1  \n",
      "9      21  1.154488      1  2.56320  355.375     0  \n",
      "10     22  1.291728      1  3.41150  309.000     0  \n",
      "11     14  1.132138      0  3.03560  213.875     1  \n",
      "12     13  1.061891      1  3.16720  233.750     1  \n",
      "13     21  1.265106      1  2.16500  300.125     0  \n",
      "14     28  1.115695      1  4.70390  444.875     0  \n",
      "15     12  1.245389      0  1.64250  262.000     1  \n",
      "16     19  1.136764      0  4.17592  302.375     1  \n",
      "17     24  1.313290      0  3.46910  317.750     0  \n",
      "18     16  1.186382      0  3.90727  287.500     1  \n",
      "19     14  0.900427      1  3.36997  235.625     1  \n",
      "20     21  1.197998      1  2.32670  320.750     0  \n",
      "21     22  1.240483      1  3.14220  308.500     0  \n",
      "22     20  1.226983      1  1.87370  286.250     0  \n",
      "23     13  1.142722      0  1.58100  278.500     1  \n",
      "24     20  1.133290      1  1.80360  303.750     0  \n",
      "25     20  1.260852      1  0.62050  291.250     0  \n",
      "26     21  1.212299      1  1.89570  299.625     0  \n",
      "27     18  1.158591      1  1.76580  286.750     0  \n",
      "28     19  1.160615      1  1.78160  286.250     0  \n",
      "29     21  1.212299      1  1.89570  299.625     0  \n",
      "30     13  1.005894      1  2.55740  240.750     1  \n",
      "31     12  0.913860      0  3.07317  205.875     1  \n",
      "32     13  0.963884      0  3.03650  224.250     1  \n",
      "33     15  1.165910      0  4.36407  244.500     1  \n",
      "34     14  1.171401      1  2.75860  252.875     1  \n",
      "35      7  1.047762      0  1.31010  164.250     1  \n",
      "36     16  1.018913      0  3.69444  261.250     1  \n",
      "37     20  1.213601      0  3.82542  302.625     1  \n",
      "38     18  1.078658      0  3.92729  316.750     1  \n",
      "39     13  1.208765      0  1.95092  279.875     1  \n",
      "El compuesto YA ha sido agregado a la base de datos\n",
      "Empty DataFrame\n",
      "Columns: [COMPUESTO, SMILES, A_HYD, DENS, REACT, SLOGP, VOL, AINE]\n",
      "Index: []\n",
      "El número total de compuestos registrados en la base de datos es:  40 \n",
      "El número de AINES registrados en la base de datos es:  23 \n",
      "El número de Antiinflamatorios Esteroideos registrados en la base de datos es: 17\n"
     ]
    }
   ],
   "source": [
    "import pandas as pd\n",
    "import numpy as np\n",
    "import matplotlib.pyplot as plt\n",
    "from sklearn.linear_model import LogisticRegression\n",
    "from sklearn.preprocessing import StandardScaler\n",
    "%run Base_datos_AINEs.ipynb"
   ]
  },
  {
   "cell_type": "markdown",
   "id": "a81272f8-c8b4-4c00-9def-ff9a306e56cd",
   "metadata": {},
   "source": [
    "Organizamos y convertimos los datos de interés del dataframe \"AINES_frame\" en arrays de NumPy para obtener nuestro training set.-"
   ]
  },
  {
   "cell_type": "code",
   "execution_count": 5,
   "id": "b0b23344-31a7-4c18-a933-628d584791a6",
   "metadata": {
    "tags": []
   },
   "outputs": [],
   "source": [
    "X_train = AINES_frame[[\"A_HYD\", \"DENS\", \"REACT\", \"SLOGP\", \"VOL\"]].to_numpy() # Seleccionar las columnas del df que usaremos como features y se convierten en arrays de NumPy\n",
    "y_train = AINES_frame[[\"AINE\"]].to_numpy() # Seleccionar la columna de los valores target para convertira en otro array de NumPy\n",
    "y_train = y_train.ravel() # Reformamos el arreglo target en un vector 1D (n,)"
   ]
  },
  {
   "cell_type": "markdown",
   "id": "98825512-ccb2-4782-91be-69a36a937b0d",
   "metadata": {},
   "source": [
    "Familiarización con el training set.-"
   ]
  },
  {
   "cell_type": "code",
   "execution_count": 6,
   "id": "e7ced006-63fa-4bb2-ad61-5480551dd5cf",
   "metadata": {
    "tags": []
   },
   "outputs": [
    {
     "name": "stdout",
     "output_type": "stream",
     "text": [
      "Primeros 5 elementos en X_train:\n",
      " [[ 13.          1.2087647   0.          1.95092   279.875    ]\n",
      " [ 18.          1.0786582   0.          3.92729   316.75     ]\n",
      " [ 20.          1.213601    0.          3.8254199 302.625    ]\n",
      " [ 16.          1.0189129   0.          3.6944399 261.25     ]\n",
      " [  7.          1.0477625   0.          1.3101    164.25     ]]\n",
      "Primeros 5 elementos en y_train:\n",
      " [1 1 1 1 1]\n",
      "Type of X_train: <class 'numpy.ndarray'>\n",
      "Type of y_train: <class 'numpy.ndarray'>\n",
      "La forma de X es: (40, 5)\n",
      "La forma de y es: (40,)\n",
      "Tenemos m = 40  ejemplos de entrenamiento (training examples)\n"
     ]
    }
   ],
   "source": [
    "print(\"Primeros 5 elementos en X_train:\\n\", X_train[:5])\n",
    "print(\"Primeros 5 elementos en y_train:\\n\", y_train[:5])\n",
    "\n",
    "# Revisar el tipo y dimensionalidad de los arrays creados\n",
    "\n",
    "print(\"Type of X_train:\",type(X_train))\n",
    "print(\"Type of y_train:\",type(y_train))\n",
    "\n",
    "print ('La forma de X es: ' + str(X_train.shape))\n",
    "print ('La forma de y es: ' + str(y_train.shape))\n",
    "print ('Tenemos m =', len(y_train),' ejemplos de entrenamiento (training examples)')"
   ]
  },
  {
   "cell_type": "markdown",
   "id": "792cdf97-394b-4ac6-9ef8-9833b0d1306d",
   "metadata": {},
   "source": [
    "LLevamos a cabo un poco de ingeniería de variable (feature engineering) que posteriormente ayudará a optimizar los cálculos.-"
   ]
  },
  {
   "cell_type": "code",
   "execution_count": 7,
   "id": "4749e4ab-4686-47a7-bac7-7c231b4a655b",
   "metadata": {
    "tags": []
   },
   "outputs": [],
   "source": [
    "# Escalar/normalizar datos de entrenamiento\n",
    "scaler = StandardScaler()\n",
    "X_norm = scaler.fit_transform(X_train)"
   ]
  },
  {
   "cell_type": "markdown",
   "id": "e8a36790-2bb3-4993-ab32-755e65d1eef1",
   "metadata": {},
   "source": [
    "Crear y entrenar el algoritmo de clasificación (modelo = regresión logística), con el set de datos de entrenamiento (x_train, y_train).-"
   ]
  },
  {
   "cell_type": "code",
   "execution_count": 8,
   "id": "fab8ffc7-eb28-4846-88b2-cfb4583c01de",
   "metadata": {
    "tags": []
   },
   "outputs": [
    {
     "data": {
      "text/html": [
       "<style>#sk-container-id-1 {color: black;background-color: white;}#sk-container-id-1 pre{padding: 0;}#sk-container-id-1 div.sk-toggleable {background-color: white;}#sk-container-id-1 label.sk-toggleable__label {cursor: pointer;display: block;width: 100%;margin-bottom: 0;padding: 0.3em;box-sizing: border-box;text-align: center;}#sk-container-id-1 label.sk-toggleable__label-arrow:before {content: \"▸\";float: left;margin-right: 0.25em;color: #696969;}#sk-container-id-1 label.sk-toggleable__label-arrow:hover:before {color: black;}#sk-container-id-1 div.sk-estimator:hover label.sk-toggleable__label-arrow:before {color: black;}#sk-container-id-1 div.sk-toggleable__content {max-height: 0;max-width: 0;overflow: hidden;text-align: left;background-color: #f0f8ff;}#sk-container-id-1 div.sk-toggleable__content pre {margin: 0.2em;color: black;border-radius: 0.25em;background-color: #f0f8ff;}#sk-container-id-1 input.sk-toggleable__control:checked~div.sk-toggleable__content {max-height: 200px;max-width: 100%;overflow: auto;}#sk-container-id-1 input.sk-toggleable__control:checked~label.sk-toggleable__label-arrow:before {content: \"▾\";}#sk-container-id-1 div.sk-estimator input.sk-toggleable__control:checked~label.sk-toggleable__label {background-color: #d4ebff;}#sk-container-id-1 div.sk-label input.sk-toggleable__control:checked~label.sk-toggleable__label {background-color: #d4ebff;}#sk-container-id-1 input.sk-hidden--visually {border: 0;clip: rect(1px 1px 1px 1px);clip: rect(1px, 1px, 1px, 1px);height: 1px;margin: -1px;overflow: hidden;padding: 0;position: absolute;width: 1px;}#sk-container-id-1 div.sk-estimator {font-family: monospace;background-color: #f0f8ff;border: 1px dotted black;border-radius: 0.25em;box-sizing: border-box;margin-bottom: 0.5em;}#sk-container-id-1 div.sk-estimator:hover {background-color: #d4ebff;}#sk-container-id-1 div.sk-parallel-item::after {content: \"\";width: 100%;border-bottom: 1px solid gray;flex-grow: 1;}#sk-container-id-1 div.sk-label:hover label.sk-toggleable__label {background-color: #d4ebff;}#sk-container-id-1 div.sk-serial::before {content: \"\";position: absolute;border-left: 1px solid gray;box-sizing: border-box;top: 0;bottom: 0;left: 50%;z-index: 0;}#sk-container-id-1 div.sk-serial {display: flex;flex-direction: column;align-items: center;background-color: white;padding-right: 0.2em;padding-left: 0.2em;position: relative;}#sk-container-id-1 div.sk-item {position: relative;z-index: 1;}#sk-container-id-1 div.sk-parallel {display: flex;align-items: stretch;justify-content: center;background-color: white;position: relative;}#sk-container-id-1 div.sk-item::before, #sk-container-id-1 div.sk-parallel-item::before {content: \"\";position: absolute;border-left: 1px solid gray;box-sizing: border-box;top: 0;bottom: 0;left: 50%;z-index: -1;}#sk-container-id-1 div.sk-parallel-item {display: flex;flex-direction: column;z-index: 1;position: relative;background-color: white;}#sk-container-id-1 div.sk-parallel-item:first-child::after {align-self: flex-end;width: 50%;}#sk-container-id-1 div.sk-parallel-item:last-child::after {align-self: flex-start;width: 50%;}#sk-container-id-1 div.sk-parallel-item:only-child::after {width: 0;}#sk-container-id-1 div.sk-dashed-wrapped {border: 1px dashed gray;margin: 0 0.4em 0.5em 0.4em;box-sizing: border-box;padding-bottom: 0.4em;background-color: white;}#sk-container-id-1 div.sk-label label {font-family: monospace;font-weight: bold;display: inline-block;line-height: 1.2em;}#sk-container-id-1 div.sk-label-container {text-align: center;}#sk-container-id-1 div.sk-container {/* jupyter's `normalize.less` sets `[hidden] { display: none; }` but bootstrap.min.css set `[hidden] { display: none !important; }` so we also need the `!important` here to be able to override the default hidden behavior on the sphinx rendered scikit-learn.org. See: https://github.com/scikit-learn/scikit-learn/issues/21755 */display: inline-block !important;position: relative;}#sk-container-id-1 div.sk-text-repr-fallback {display: none;}</style><div id=\"sk-container-id-1\" class=\"sk-top-container\"><div class=\"sk-text-repr-fallback\"><pre>LogisticRegression()</pre><b>In a Jupyter environment, please rerun this cell to show the HTML representation or trust the notebook. <br />On GitHub, the HTML representation is unable to render, please try loading this page with nbviewer.org.</b></div><div class=\"sk-container\" hidden><div class=\"sk-item\"><div class=\"sk-estimator sk-toggleable\"><input class=\"sk-toggleable__control sk-hidden--visually\" id=\"sk-estimator-id-1\" type=\"checkbox\" checked><label for=\"sk-estimator-id-1\" class=\"sk-toggleable__label sk-toggleable__label-arrow\">LogisticRegression</label><div class=\"sk-toggleable__content\"><pre>LogisticRegression()</pre></div></div></div></div></div>"
      ],
      "text/plain": [
       "LogisticRegression()"
      ]
     },
     "execution_count": 8,
     "metadata": {},
     "output_type": "execute_result"
    }
   ],
   "source": [
    "lr_model = LogisticRegression()\n",
    "lr_model.fit(X_norm, y_train)"
   ]
  },
  {
   "cell_type": "markdown",
   "id": "e82d09ff-acbc-41ca-8934-c5038f8df8f1",
   "metadata": {},
   "source": [
    "Hacer predicciones en el set de datos de cross validation para evaluar el modelo.-"
   ]
  },
  {
   "cell_type": "code",
   "execution_count": 9,
   "id": "a3c9dcbb-af6c-4282-a840-4ce5ceb7c7ef",
   "metadata": {
    "tags": []
   },
   "outputs": [
    {
     "name": "stdout",
     "output_type": "stream",
     "text": [
      "Predicciones en el set de datos: [1 1 1 1 1 1 1 1 1 1 0 0 0 0 0 0 1 0 0 0 1 1 0 1 1 0 0 1 1 0 0 1 1 0 1 1 0\n",
      " 0 1 1]\n",
      "Exactitud en el set de datos: 1.0\n"
     ]
    }
   ],
   "source": [
    "y_pred = lr_model.predict(X_norm)\n",
    "print(\"Predicciones en el set de datos:\", y_pred)\n",
    "\n",
    "print(\"Exactitud en el set de datos:\", lr_model.score(X_norm, y_train))"
   ]
  },
  {
   "cell_type": "markdown",
   "id": "ffbecd7e-5591-4eb9-952f-a664229468ca",
   "metadata": {},
   "source": [
    "Vizualizar los parámetros (w, b) calculados. \n",
    "Nota: los parámetros están asociados con los datos de entrada normalizados."
   ]
  },
  {
   "cell_type": "code",
   "execution_count": 10,
   "id": "798f7183-d5f4-4144-b2eb-b352ac72ecc9",
   "metadata": {
    "tags": []
   },
   "outputs": [
    {
     "name": "stdout",
     "output_type": "stream",
     "text": [
      "Parámetros del modelo:    \n",
      " w: [[-1.48847532 -0.73087839 -1.22775011  0.85345414 -0.77415877]] , b: [0.95407333]\n"
     ]
    }
   ],
   "source": [
    "b_norm = lr_model.intercept_\n",
    "w_norm = lr_model.coef_\n",
    "print(\"Parámetros del modelo:    \\n\", \"w:\", w_norm, \", b:\", b_norm)"
   ]
  },
  {
   "cell_type": "markdown",
   "id": "964eef30-1787-4a62-ab18-2717f0dc726e",
   "metadata": {},
   "source": [
    "Para realizar una NUEVA PREDICCIÓN:"
   ]
  },
  {
   "cell_type": "code",
   "execution_count": 14,
   "id": "54d3cc37-c2bb-4a1f-b815-f6adb9afcd70",
   "metadata": {
    "tags": []
   },
   "outputs": [
    {
     "name": "stdout",
     "output_type": "stream",
     "text": [
      "Nueva predicción:  [1]\n"
     ]
    }
   ],
   "source": [
    "X_pred = np.array([[7, 1.0007, 0, 1.3506, 142]]) # Descriptores del compuesto nuevo: [\"A_HYD\", \"DENS\", \"REACT\", \"SLOGP\", \"VOL\"]\n",
    "X_pred_norm = scaler.fit_transform(X_pred) # Recordar normalizar todos los datos de entrada\n",
    "y_new_pred = lr_model.predict(X_pred_norm)\n",
    "\n",
    "print(\"Nueva predicción: \", y_new_pred)"
   ]
  },
  {
   "cell_type": "markdown",
   "id": "7f91bfee-9c8f-41a8-9666-036d27c2a8f9",
   "metadata": {},
   "source": [
    "Mensaje de salida del programa (threshold).-"
   ]
  },
  {
   "cell_type": "code",
   "execution_count": 15,
   "id": "7dc4698e-d48f-4bfb-8d75-e28be1c3ed87",
   "metadata": {
    "tags": []
   },
   "outputs": [
    {
     "name": "stdout",
     "output_type": "stream",
     "text": [
      "El compuesto tiende a ser un antiinflamatorio no esteroideo (AINE)\n"
     ]
    }
   ],
   "source": [
    "if(y_new_pred == 1):\n",
    "    print(\"El compuesto tiende a ser un antiinflamatorio no esteroideo (AINE)\")\n",
    "else:\n",
    "    print(\"El compuesto tiende a ser un antiinflamatorio esteroideo\")"
   ]
  },
  {
   "cell_type": "code",
   "execution_count": null,
   "id": "e7e03706-e6e3-46e1-ad9b-a688da342eb9",
   "metadata": {},
   "outputs": [],
   "source": []
  }
 ],
 "metadata": {
  "kernelspec": {
   "display_name": "Python 3 (ipykernel)",
   "language": "python",
   "name": "python3"
  },
  "language_info": {
   "codemirror_mode": {
    "name": "ipython",
    "version": 3
   },
   "file_extension": ".py",
   "mimetype": "text/x-python",
   "name": "python",
   "nbconvert_exporter": "python",
   "pygments_lexer": "ipython3",
   "version": "3.9.12"
  }
 },
 "nbformat": 4,
 "nbformat_minor": 5
}
