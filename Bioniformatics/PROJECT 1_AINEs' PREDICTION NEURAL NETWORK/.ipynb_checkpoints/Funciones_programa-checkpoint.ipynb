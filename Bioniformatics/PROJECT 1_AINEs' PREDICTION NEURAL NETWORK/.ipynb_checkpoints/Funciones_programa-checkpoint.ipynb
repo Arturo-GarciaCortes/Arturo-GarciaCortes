{
 "cells": [
  {
   "cell_type": "markdown",
   "id": "78ab1034-010e-4d84-8bba-9ec13f4b195f",
   "metadata": {},
   "source": [
    "MODELOS DE CLASIFICACIÓN, REGRESIÓN LINEAL Y RED NEURONAL"
   ]
  },
  {
   "cell_type": "code",
   "execution_count": 6,
   "id": "01d07a21-d647-439c-920e-f4a3a8f8fc48",
   "metadata": {
    "tags": []
   },
   "outputs": [],
   "source": [
    "import pandas as pd\n",
    "import numpy as np\n",
    "import tensorflow as tf\n",
    "import subprocess\n",
    "import time\n",
    "from tensorflow.keras.models import Sequential\n",
    "from tensorflow.keras.activations import sigmoid, relu\n",
    "from tensorflow.keras.layers import Dense\n",
    "from tensorflow.keras.losses import BinaryCrossentropy\n",
    "import matplotlib.pyplot as plt\n",
    "from sklearn.linear_model import LogisticRegression\n",
    "from sklearn.preprocessing import StandardScaler\n",
    "%run Base_datos_AINEs.ipynb"
   ]
  },
  {
   "cell_type": "markdown",
   "id": "8eacf5b0-65ff-4944-aa7c-f1eb5f5474d7",
   "metadata": {},
   "source": [
    "Función del modelo de regresión logística para la clasificación de análogos de AINE's"
   ]
  },
  {
   "cell_type": "code",
   "execution_count": 5,
   "id": "a3e91e3c-2dff-46ea-8cbd-a9cb32ffb57c",
   "metadata": {
    "tags": []
   },
   "outputs": [],
   "source": [
    "# Creación del modelo regresión logística\n",
    "\n",
    "def reg_logistica(X, y):\n",
    "    \"\"\"\n",
    "    Computa el modelo de regresión logística que clasifica las moléculas test en AINE o no AINE\n",
    "    \n",
    "    X (ndarray (m,n): Training data, m examples with n features\n",
    "    y (ndarray (m,)): target values\n",
    "    \n",
    "    \"\"\"\n",
    "    #Ingeniería de variables\n",
    "    log_scaler = StandardScaler()\n",
    "    X = log_scaler.fit_transform(X) # Normaliza todos los datos de entrada\n",
    "    \n",
    "    #Creación del modelo\n",
    "    lr_model = LogisticRegression()\n",
    "    lr_model.fit(X, y)\n",
    "    \n",
    "    return lr_model, log_scaler"
   ]
  },
  {
   "cell_type": "markdown",
   "id": "332aff12-1a5b-4bb5-b497-0c4ab1e9a1a1",
   "metadata": {},
   "source": [
    "Función de la red neuronal para algoritmo de clasificación de análogos de AINE's"
   ]
  },
  {
   "cell_type": "code",
   "execution_count": 2,
   "id": "a9f74824-a88f-4fbf-9e3c-e3d6de2ba27a",
   "metadata": {
    "tags": []
   },
   "outputs": [],
   "source": [
    "# Creación de red neuronal\n",
    "\n",
    "def RedN_clasificacion(X, y): \n",
    "    \"\"\"\n",
    "    Computa una red neuronal de 4 capas que clasifica las moléculas test en AINE o no AINE (output layer = sigmoid)\n",
    "    \n",
    "    X (ndarray (m,n): Training data, m examples with n features\n",
    "    y (ndarray (m,)): target values\n",
    "    \n",
    "    \"\"\"\n",
    "   #Ingeniería de variables\n",
    "    neural_scaler = StandardScaler()\n",
    "    X = neural_scaler.fit_transform(X) # Normaliza todos los datos de entrada\n",
    "    \n",
    "    #Arquitectura de la red neuronal\n",
    "    tf.random.set_seed(1234)  # Para obtener resultados consistentes\n",
    "    \n",
    "    model = Sequential(\n",
    "        [\n",
    "        Dense(8, input_shape=(5,), activation='relu', name='layer1', kernel_regularizer=tf.keras.regularizers.l2(0.01)),\n",
    "        Dense(5, activation='relu',  name='layer2', kernel_regularizer=tf.keras.regularizers.l2(0.01)),\n",
    "        Dense(3, activation='relu',  name='layer3', kernel_regularizer=tf.keras.regularizers.l2(0.01)),\n",
    "        Dense(1, activation='sigmoid', name='layer4', kernel_regularizer=tf.keras.regularizers.l2(0.01))\n",
    "    ]\n",
    "    )\n",
    "    \n",
    "    dummy_input = np.zeros((8, 5))\n",
    "    _ = model(dummy_input)\n",
    "    \n",
    "    #Cargar los parámetros de una red neuronal entrenada previamente en el nuevo modelo\n",
    "    model.load_weights('my_model_weights.h5')\n",
    "    \n",
    "    #Compilación del modelo\n",
    "    model.compile(\n",
    "        loss = tf.keras.losses.BinaryCrossentropy(), #Loss function\n",
    "        optimizer = tf.keras.optimizers.Adam(learning_rate = 0.001) #Algoritmo de minimización Adam\n",
    "    )\n",
    "    \n",
    "    #Entrenar modelo\n",
    "    model.fit(X, y, epochs=600) #El modelo va a realizar 600 iteraciones\n",
    "    \n",
    "    return model, neural_scaler"
   ]
  },
  {
   "cell_type": "markdown",
   "id": "025503af-6c6f-4078-a438-4c449527eea9",
   "metadata": {},
   "source": [
    "Función para realizar predicciones con modelos de regresión logística y red neuronal"
   ]
  },
  {
   "cell_type": "code",
   "execution_count": 4,
   "id": "297e27c9-fbd5-40f9-bf31-208d23f318da",
   "metadata": {},
   "outputs": [],
   "source": [
    "# Realizar predicciones (modelo regresión logística)\n",
    "\n",
    "def pred_clasificacion(X, scaler, model):\n",
    "    \"\"\"\n",
    "    Clasifica los datos de entrada como AINE o no AINE\n",
    "    \n",
    "    X (ndarray (m,n): Data for predictions, m predictions with n features\n",
    "    model: Modelo de clasificación \n",
    "    y_pred (ndarray (m,)): Predictions made by the model\n",
    "    \n",
    "    \"\"\"    \n",
    "    #Ingeniería de variables\n",
    "    X = scaler.transform(X) # Normaliza todos los datos de entrada con base al scaler del training set\n",
    "    \n",
    "    #Predicción\n",
    "    y_pred = model.predict(X)\n",
    "    predictions = y_pred.tolist() #Guardamos los valores predichos en una lista para poder aplicar la treshold\n",
    "    \n",
    "    #Treshold\n",
    "    for prediction in predictions:\n",
    "        if prediction == 1:\n",
    "            print('La molécula es un AINE')\n",
    "        else:\n",
    "            print('La molécula es un Antiinflamatorio Esteroideo (cortisoide)')\n",
    "        \n",
    "    return y_pred\n",
    "\n",
    "\n",
    "# Realizar predicciones (red neuronal)\n",
    "\n",
    "def pred_clasificacion_RN(X, scaler, model):\n",
    "    \"\"\"\n",
    "    Clasifica los datos de entrada como AINE o no AINE\n",
    "    \n",
    "    X (ndarray (m,n): Data for predictions, m predictions with n features\n",
    "    model: Modelo de clasificación \n",
    "    y_pred (ndarray (m,)): Predictions made by the model\n",
    "    \n",
    "    \"\"\"    \n",
    "    #Ingeniería de variables\n",
    "    X = scaler.transform(X) # Normaliza todos los datos de entrada con base al scaler del training set\n",
    "\n",
    "    #Predicción\n",
    "    y_pred = model.predict(X)\n",
    "    \n",
    "    #Aplicar el umbral para convertir las probabilidades en 0 o 1\n",
    "    binary_values = np.where(y_pred >= 0.5, 1, 0)\n",
    "    binary_values = binary_values.flatten() # Aplanar binary_values para que tengan la misma forma que el arreglo de Valores reales de y \n",
    "    \n",
    "    #Treshold\n",
    "    for value in binary_values:\n",
    "        if value == 1:\n",
    "            print('La molécula es un AINE')\n",
    "        else:\n",
    "            print('La molécula es un Antiinflamatorio Esteroideo (cortisoide)')    \n",
    "            \n",
    "    return binary_values, y_pred"
   ]
  },
  {
   "cell_type": "markdown",
   "id": "cd7d4cea-04b2-4364-b659-683f4b4db211",
   "metadata": {},
   "source": [
    "Función para calcular descriptores moleculares de interés usando MOE"
   ]
  },
  {
   "cell_type": "code",
   "execution_count": 3,
   "id": "6629cd22-896f-441a-a17e-a35d46d7a30d",
   "metadata": {
    "tags": []
   },
   "outputs": [],
   "source": [
    "def calculo_descriptores(mol2_file):\n",
    "    \"\"\"\n",
    "    Calcula los descriptores de la molécula guardada en un archivo .mol2\n",
    "    \n",
    "    mol2_file: Path al archivo .mol2 que contiene la molécula test a la cual se le desean calcular sus descriptores\n",
    "    \n",
    "    \"\"\"\n",
    "    #Modificar el script SVL con la ruta de la molécula test\n",
    "    \n",
    "    svl_script = 'C:\\\\Users\\\\DATOS\\\\Desktop\\\\TESIS_ARTURO\\\\Programacion\\\\Calculate_descriptors.script'\n",
    "    with open(svl_script, 'r') as file:\n",
    "        lines = file.readlines()\n",
    "        \n",
    "    # Reemplazar la primera línea del script SVL con la ruta de la molécula test\n",
    "    lines[0] = \"mol2_file = '\" + mol2_file + \"';\" + '\\n' \n",
    "\n",
    "    with open(svl_script, 'w') as file:\n",
    "        file.writelines(lines)\n",
    "    \n",
    "    #Llamar a MOE y realizar el cálculo de descriptores de la molécula test\n",
    "    \n",
    "    #Cálculo de descriptores\n",
    "    moe_executable = \"C:\\\\moe2014\\\\bin-win64\\\\moe.exe\"\n",
    "    svl_command = \"script 'C:\\\\\\\\Users\\\\\\\\DATOS\\\\\\\\Desktop\\\\\\\\TESIS_ARTURO\\\\\\\\Programacion\\\\\\\\Calculate_descriptors.script'\"\n",
    "    \n",
    "    moe_process = subprocess.Popen([moe_executable, \"-exec\", svl_command])\n",
    "    \n",
    "    time.sleep(6)  # Espera 6 segundos a que MOE ejecute el comando SVL\n",
    "    moe_process.terminate() # Cierra el proceso MOE\n",
    "    \n",
    "    #Obtención de descriptores del archivo data.csv\n",
    "    \n",
    "    database = pd.read_csv('data.csv')\n",
    "    \n",
    "    #Conversión de datos a tipo float\n",
    "    database['a_hyd'] = database['a_hyd'].astype(float) \n",
    "    database['E'] = database['E'].astype(float)\n",
    "    database['reactive'] = database['reactive'].astype(float)\n",
    "    database['a_IC'] = database['a_IC'].astype(float)\n",
    "    database['vol'] = database['vol'].astype(float)\n",
    "    \n",
    "    #Guardar los valores de los descriptores en un arreglo de Numpy (1,n)\n",
    "    descriptores = database[[\"a_hyd\", \"E\", \"reactive\", \"a_IC\", \"vol\"]].to_numpy()\n",
    "    \n",
    "    return descriptores"
   ]
  },
  {
   "cell_type": "markdown",
   "id": "77cac9c4-c55d-4417-9314-b0d4f6c68817",
   "metadata": {},
   "source": [
    "Función del modelo de regresión lineal para QSAR inverso"
   ]
  },
  {
   "cell_type": "markdown",
   "id": "a4016c45-aa76-4b80-909d-dbb4f64d43bf",
   "metadata": {},
   "source": [
    "Función de la red neuronal para QSAR inverso"
   ]
  },
  {
   "cell_type": "code",
   "execution_count": null,
   "id": "f216babd-d975-4427-a758-7fbd3d57d7b2",
   "metadata": {},
   "outputs": [],
   "source": []
  },
  {
   "cell_type": "markdown",
   "id": "0e044de9-5c94-4861-a537-1fee6b965311",
   "metadata": {},
   "source": [
    "Función de evaluación de modelos"
   ]
  },
  {
   "cell_type": "code",
   "execution_count": 5,
   "id": "4280dee4-19c5-42f6-ae1f-870712da1369",
   "metadata": {},
   "outputs": [],
   "source": [
    "def val_model(y_t, y_p):\n",
    "    \"\"\"\n",
    "    Evalúa la exactitud del modelo de clasificación comparando los valores de y calculados por dicho modelo, con los valores de y reales\n",
    "    \n",
    "    y_t (ndarray (m,)): Target values\n",
    "    y_p (ndarray (m,)): Predicted values\n",
    "    \n",
    "    \"\"\"\n",
    "    # Calcular la fracción y el porcentaje de los datos que el modelo no clasifica correctamente (cuando y_p[i] es diferente que y_t[i])\n",
    "    fraction_error = np.mean(y_p != y_t)\n",
    "    percentaje_error = fraction_error * 100\n",
    "    \n",
    "    return percentaje_error"
   ]
  },
  {
   "cell_type": "code",
   "execution_count": null,
   "id": "a6642d6a-1473-4842-98f0-32b9e6ac6b10",
   "metadata": {},
   "outputs": [],
   "source": []
  }
 ],
 "metadata": {
  "kernelspec": {
   "display_name": "Python 3 (ipykernel)",
   "language": "python",
   "name": "python3"
  },
  "language_info": {
   "codemirror_mode": {
    "name": "ipython",
    "version": 3
   },
   "file_extension": ".py",
   "mimetype": "text/x-python",
   "name": "python",
   "nbconvert_exporter": "python",
   "pygments_lexer": "ipython3",
   "version": "3.9.2"
  }
 },
 "nbformat": 4,
 "nbformat_minor": 5
}
