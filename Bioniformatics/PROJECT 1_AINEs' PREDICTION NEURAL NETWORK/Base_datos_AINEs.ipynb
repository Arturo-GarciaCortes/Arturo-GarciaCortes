{
 "cells": [
  {
   "cell_type": "code",
   "execution_count": 1,
   "id": "a0d09386-dac7-45da-8bcf-8333d699c4d4",
   "metadata": {
    "tags": []
   },
   "outputs": [],
   "source": [
    "import pandas as pd"
   ]
  },
  {
   "cell_type": "markdown",
   "id": "dcf66eff-023c-4c9e-96ab-6f563e541c48",
   "metadata": {},
   "source": [
    "Importar la base de datos creada en el archivo de excel Base_de_datos_AINEs.csv.-"
   ]
  },
  {
   "cell_type": "code",
   "execution_count": 2,
   "id": "f45be66d-f773-459e-b6de-d4d2f668b26d",
   "metadata": {
    "tags": []
   },
   "outputs": [],
   "source": [
    "AINES_frame = pd.read_csv('Base_datos_AINEs.csv')"
   ]
  },
  {
   "cell_type": "markdown",
   "id": "b56b5edf-e7a3-4bcd-83cd-243be89baa7c",
   "metadata": {},
   "source": [
    "Convertir los valores del dataframe a valores de tipo float.-"
   ]
  },
  {
   "cell_type": "code",
   "execution_count": 3,
   "id": "f4583d1e-94ef-4fe1-8589-8a2fd57892b1",
   "metadata": {
    "tags": []
   },
   "outputs": [],
   "source": [
    "AINES_frame['A_HYD'] = AINES_frame['A_HYD'].astype(float)\n",
    "AINES_frame['REACT'] = AINES_frame['REACT'].astype(float)\n",
    "AINES_frame['SLOGP'] = AINES_frame['SLOGP'].astype(float)\n",
    "AINES_frame['VOL'] = AINES_frame['VOL'].astype(float)\n",
    "AINES_frame['A_IC'] = AINES_frame['A_IC'].astype(float)\n",
    "AINES_frame['E'] = AINES_frame['E'].astype(float)\n",
    "AINES_frame['E_RVDW'] = AINES_frame['E_RVDW'].astype(float)\n",
    "AINES_frame['AINE'] = AINES_frame['AINE'].astype(int)\n",
    "\n",
    "AINES_frame = AINES_frame.sort_index(ascending=False) #Reordenar el dataframe de mayor a menor índice.-"
   ]
  },
  {
   "cell_type": "code",
   "execution_count": 4,
   "id": "6fc8fd8c-0bd5-486f-9a16-212db23be838",
   "metadata": {
    "tags": []
   },
   "outputs": [
    {
     "data": {
      "text/plain": [
       "\"\\n = {'COMPUESTO': [''], 'SMILES': [''], 'A_HYD': [], 'DENS': [], 'REACT': [], 'SLOGP': [], 'VOL': [], 'AINE': []} # Colocar información del nuevo compuesto\\n = pd.DataFrame()\\nAINES_frame = pd.concat([, AINES_frame], ignore_index = True) \\n\\n\""
      ]
     },
     "execution_count": 4,
     "metadata": {},
     "output_type": "execute_result"
    }
   ],
   "source": [
    "## Añadir datos nuevos al dataframe \n",
    "\n",
    "# Para añadir nuevas filas o nuevos compuestos\n",
    "\n",
    "\"\"\"\n",
    " = {'COMPUESTO': [''], 'SMILES': [''], 'A_HYD': [], 'DENS': [], 'REACT': [], 'SLOGP': [], 'VOL': [], 'AINE': []} # Colocar información del nuevo compuesto\n",
    " = pd.DataFrame()\n",
    "AINES_frame = pd.concat([, AINES_frame], ignore_index = True) \n",
    "\n",
    "\"\"\"\n",
    "\n",
    "# AINES_frame.drop(index = , axis = 0, inplace = True) # Eliminar una fila del df"
   ]
  },
  {
   "cell_type": "code",
   "execution_count": 5,
   "id": "444a9f72-3036-4173-ae47-6379a7d91e23",
   "metadata": {
    "tags": []
   },
   "outputs": [
    {
     "data": {
      "text/plain": [
       "'\\n## Convertir y guardar dataframe -> archivo excel\\nnombre_documento = \"Base de datos_AINEs.xlsx\"\\nAINES_frame.to_excel(nombre_documento) # dataframe -> archivo excel\\n\\n#print(AINES_frame)\\n'"
      ]
     },
     "execution_count": 5,
     "metadata": {},
     "output_type": "execute_result"
    }
   ],
   "source": [
    "\"\"\"\n",
    "## Convertir y guardar dataframe -> archivo excel\n",
    "nombre_documento = \"Base de datos_AINEs.xlsx\"\n",
    "AINES_frame.to_excel(nombre_documento) # dataframe -> archivo excel\n",
    "\n",
    "#print(AINES_frame)\n",
    "\"\"\""
   ]
  },
  {
   "cell_type": "markdown",
   "id": "595416ac-d189-4d05-84fe-82415b940556",
   "metadata": {},
   "source": [
    "Código de utilidad que NO altera la base de datos.-"
   ]
  },
  {
   "cell_type": "markdown",
   "id": "2e542bfa-51ba-4d15-a81b-2fecaaa89b98",
   "metadata": {
    "tags": []
   },
   "source": [
    "Para saber si un compuesto que se desea añadir YA se encuentra en la base de datos.-"
   ]
  },
  {
   "cell_type": "code",
   "execution_count": 11,
   "id": "f79a7c7f-d164-4adc-ad18-d4477897354e",
   "metadata": {
    "tags": []
   },
   "outputs": [
    {
     "name": "stdout",
     "output_type": "stream",
     "text": [
      "El compuesto NO ha sido agregado a la base de datos\n"
     ]
    }
   ],
   "source": [
    "\"\"\"\n",
    "if 'Cortisona' in AINES_frame['COMPUESTO'].values:\n",
    "    print(\"El compuesto YA ha sido agregado a la base de datos\")\n",
    "else:\n",
    "    print(\"El compuesto NO ha sido agregado a la base de datos\")\n",
    "\"\"\""
   ]
  },
  {
   "cell_type": "markdown",
   "id": "c762c9de-fbe7-4f1d-ac36-5a2155cca133",
   "metadata": {},
   "source": [
    "Para localizar un compuesto y ver todos los elementos de su fila.-"
   ]
  },
  {
   "cell_type": "code",
   "execution_count": 7,
   "id": "b0f3ce43-2991-40e2-91bf-df77aefe05b3",
   "metadata": {},
   "outputs": [
    {
     "data": {
      "text/plain": [
       "\"\\nfila_busqueda = AINES_frame.loc[AINES_frame['COMPUESTO'] == 'nombre del compuesto']\\nprint(fila_busqueda)\\n\""
      ]
     },
     "execution_count": 7,
     "metadata": {},
     "output_type": "execute_result"
    }
   ],
   "source": [
    "\"\"\"\n",
    "fila_busqueda = AINES_frame.loc[AINES_frame['COMPUESTO'] == 'nombre del compuesto']\n",
    "print(fila_busqueda)\n",
    "\"\"\""
   ]
  },
  {
   "cell_type": "markdown",
   "id": "fcae5fa2-bae2-4211-bff1-8c509979b168",
   "metadata": {},
   "source": [
    "Para saber cuántos AINES hay registrados en la base de datos.-"
   ]
  },
  {
   "cell_type": "code",
   "execution_count": 8,
   "id": "581e50bc-4dc5-4acc-89aa-3ef0d8d6d97d",
   "metadata": {
    "tags": []
   },
   "outputs": [
    {
     "data": {
      "text/plain": [
       "\"\\nAINES = AINES_frame['AINE'] #Guardamos los valores de la columna 'AINE' en la variable tipo lista AINES\\nNA = 0\\n\\nfor aine in AINES:\\n    if aine == 1:\\n        NA = NA + 1\\nprint('El número total de compuestos registrados en la base de datos es: ', len(AINES), '\\n'\\n      'El número de AINES registrados en la base de datos es: ', NA, '\\n'\\n      'El número de Antiinflamatorios Esteroideos registrados en la base de datos es:', len(AINES)-NA)\\n\""
      ]
     },
     "execution_count": 8,
     "metadata": {},
     "output_type": "execute_result"
    }
   ],
   "source": [
    "\"\"\"\n",
    "AINES = AINES_frame['AINE'] #Guardamos los valores de la columna 'AINE' en la variable tipo lista AINES\n",
    "NA = 0\n",
    "\n",
    "for aine in AINES:\n",
    "    if aine == 1:\n",
    "        NA = NA + 1\n",
    "print('El número total de compuestos registrados en la base de datos es: ', len(AINES), '\\n'\n",
    "      'El número de AINES registrados en la base de datos es: ', NA, '\\n'\n",
    "      'El número de Antiinflamatorios Esteroideos registrados en la base de datos es:', len(AINES)-NA)\n",
    "\"\"\""
   ]
  },
  {
   "cell_type": "code",
   "execution_count": null,
   "id": "a311582a-4a95-4bf3-b4a9-ac0bc3695a73",
   "metadata": {},
   "outputs": [],
   "source": []
  }
 ],
 "metadata": {
  "kernelspec": {
   "display_name": "Python 3 (ipykernel)",
   "language": "python",
   "name": "python3"
  },
  "language_info": {
   "codemirror_mode": {
    "name": "ipython",
    "version": 3
   },
   "file_extension": ".py",
   "mimetype": "text/x-python",
   "name": "python",
   "nbconvert_exporter": "python",
   "pygments_lexer": "ipython3",
   "version": "3.9.2"
  }
 },
 "nbformat": 4,
 "nbformat_minor": 5
}
