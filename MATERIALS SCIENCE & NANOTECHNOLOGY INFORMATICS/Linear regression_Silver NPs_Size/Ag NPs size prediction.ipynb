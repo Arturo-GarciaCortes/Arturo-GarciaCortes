{
 "cells": [
  {
   "cell_type": "markdown",
   "id": "05ad4096-1cdb-497e-b764-0c567a181681",
   "metadata": {
    "tags": []
   },
   "source": [
    "PREDICTION OF SIZE OF SILVER NPs"
   ]
  },
  {
   "cell_type": "markdown",
   "id": "cd68182e-c35b-4971-8cef-11d613b8f3f3",
   "metadata": {},
   "source": [
    "INTRODUCTION\n",
    "\n",
    "Nanotechnology can be described as the field in science and technology involved in the engineering, production, and utilization of nanomaterials. To nanomaterials can be accounted any material of natural, incidental or engineered origin, which possess at least one or more external dimensions in the range from 1 to 100 nm [1]. However, the objects that fit the designated limits in each dimension (x, y, z) are considered as NPs.\n",
    "\n",
    "The NPs made from coinage metals attract attention due to their unique optical properties coming from the specific behavior under light irradiation, namely the appearance of Localized Surface Plasmon Resonance (LSPR) [1]; while the resonance wavelength depends on particle size and shape [2]. In addition, silver particles having fine or ultrafine sizes have attracted scientific interest because of their unusual properties compared to bulk metal, such as excellent electrical conductivity, catalytical activity, chemical stability and antimicrobial activity. Due to the above, Ag-NPs are used in medicine, medicinal devices, pharmacology, biotechnology, electronics, engineering, energy, magnetic fields, and also in environmental remediation [2],[3]. Then, it is easy to establish that in the past few years, nanoparticle production by a size-controlled procedure has become a new and interesting research focus. \n",
    "\n",
    "Ag NPs can be synthesized through physical, chemical, and biological methods. Chemical reduction of colloidal silver is perhaps the most popular approach to produce this nanomaterial. This method involves the usage of organic and inorganic reducing agents in the presence of a stabilizer that prevent nanoparticle aggregation [4]. It has been found that the particle size and morphology can be modified due to changing the concentration of the silver precursor (oxidant agent), reducing agent and stabilizer. In addition, through the controll of the reaction's temperature and pH, the silver nanoparticle can be given a definite size [2],[3].\n",
    "\n",
    "It is with all those experimental parameters that a Machine Learning model can be developed to predict the size of Ag NPs before they are synthetized. This model will allow researchers to have some certainty about the results they expect to achieve in order to minimize economic and time efforts."
   ]
  },
  {
   "cell_type": "markdown",
   "id": "9175b8ad-99e0-4161-9ad0-1a979d931754",
   "metadata": {},
   "source": [
    "DATASET\n",
    "\n",
    "An own-made short dataset was developed for the present informal study as there is no existence and/or current access to any official dataset of Ag NPs synthesis. Expermimental Ag NPs data is of NPs synthetized by the chemical reduction method described above, all under continious stirring. The NPs' size, which were calculated from DLS, TEM or SEM analisys, was the target property for which we aimed to construct predictive models. The features in the dataset can be categorized into the following (we excluded the columns 'reference' and 'stirring', as they are not being used in the models).-\n",
    "\n",
    "- Molar concentration of the Ag ions precursor (oxidant agent) in mol dm-3.\n",
    "- Molar concentration of the reductant agent in mol dm-3.\n",
    "- Molar concentration of surfactant (or stabilizer) in mol dm-3.\n",
    "- Approximate pH of the reaction.\n",
    "- Final stage temperature of the reaction.\n",
    "- Temperature which the NPs were storaged.\n",
    "- Time from the Ag precursor ions solution was added to the reductant agent solution to the change of coloration     was showed.\n",
    "\n",
    "As a summary, the data used in this work has 33 instances/rows, 8 features/columns (concentrations and synthesis parameters), and 1 target property (Ag nanoparticles' size). To see the articles from which the data was extracted follow this link: "
   ]
  },
  {
   "cell_type": "markdown",
   "id": "9d16bd4b-6190-46a2-9084-365ad0eea843",
   "metadata": {},
   "source": [
    "Helpful libraries and jupyter-notebooks.-"
   ]
  },
  {
   "cell_type": "code",
   "execution_count": 1,
   "id": "90892819-3c64-4e18-aca9-9254afc7f6e5",
   "metadata": {
    "tags": []
   },
   "outputs": [],
   "source": [
    "import pandas as pd\n",
    "import numpy as np\n",
    "import seaborn as sns\n",
    "import matplotlib.pyplot as plt \n",
    "from sklearn.model_selection import train_test_split\n",
    "%run AgNPs_functions.ipynb"
   ]
  },
  {
   "cell_type": "markdown",
   "id": "c725d85d-fd36-4d37-b008-7e2414c6eb89",
   "metadata": {},
   "source": [
    "1. LOAD AND CHECK DATA"
   ]
  },
  {
   "cell_type": "code",
   "execution_count": 2,
   "id": "9d162cc1-3edc-4b45-8bab-6eca97f63683",
   "metadata": {
    "tags": []
   },
   "outputs": [
    {
     "data": {
      "text/html": [
       "<div>\n",
       "<style scoped>\n",
       "    .dataframe tbody tr th:only-of-type {\n",
       "        vertical-align: middle;\n",
       "    }\n",
       "\n",
       "    .dataframe tbody tr th {\n",
       "        vertical-align: top;\n",
       "    }\n",
       "\n",
       "    .dataframe thead th {\n",
       "        text-align: right;\n",
       "    }\n",
       "</style>\n",
       "<table border=\"1\" class=\"dataframe\">\n",
       "  <thead>\n",
       "    <tr style=\"text-align: right;\">\n",
       "      <th></th>\n",
       "      <th>OX</th>\n",
       "      <th>OX_S</th>\n",
       "      <th>RE</th>\n",
       "      <th>RE_S</th>\n",
       "      <th>S</th>\n",
       "      <th>SS</th>\n",
       "      <th>pH</th>\n",
       "      <th>T</th>\n",
       "      <th>CT</th>\n",
       "      <th>t</th>\n",
       "      <th>St</th>\n",
       "      <th>Size</th>\n",
       "      <th>Reference</th>\n",
       "    </tr>\n",
       "  </thead>\n",
       "  <tbody>\n",
       "    <tr>\n",
       "      <th>0</th>\n",
       "      <td>0.00100</td>\n",
       "      <td>2.0</td>\n",
       "      <td>0.002</td>\n",
       "      <td>48.0</td>\n",
       "      <td>0.00428</td>\n",
       "      <td>1</td>\n",
       "      <td>10.5</td>\n",
       "      <td>90</td>\n",
       "      <td>4</td>\n",
       "      <td>20</td>\n",
       "      <td>1</td>\n",
       "      <td>5.0</td>\n",
       "      <td>https://pubs.rsc.org/en/content/articlepdf/201...</td>\n",
       "    </tr>\n",
       "    <tr>\n",
       "      <th>1</th>\n",
       "      <td>0.00100</td>\n",
       "      <td>2.0</td>\n",
       "      <td>0.002</td>\n",
       "      <td>48.0</td>\n",
       "      <td>0.00355</td>\n",
       "      <td>1</td>\n",
       "      <td>10.5</td>\n",
       "      <td>90</td>\n",
       "      <td>4</td>\n",
       "      <td>20</td>\n",
       "      <td>1</td>\n",
       "      <td>7.0</td>\n",
       "      <td>https://pubs.rsc.org/en/content/articlepdf/201...</td>\n",
       "    </tr>\n",
       "    <tr>\n",
       "      <th>2</th>\n",
       "      <td>0.00117</td>\n",
       "      <td>2.0</td>\n",
       "      <td>0.002</td>\n",
       "      <td>48.0</td>\n",
       "      <td>0.00200</td>\n",
       "      <td>1</td>\n",
       "      <td>10.5</td>\n",
       "      <td>90</td>\n",
       "      <td>4</td>\n",
       "      <td>20</td>\n",
       "      <td>1</td>\n",
       "      <td>10.0</td>\n",
       "      <td>https://pubs.rsc.org/en/content/articlepdf/201...</td>\n",
       "    </tr>\n",
       "    <tr>\n",
       "      <th>3</th>\n",
       "      <td>0.00100</td>\n",
       "      <td>2.0</td>\n",
       "      <td>0.001</td>\n",
       "      <td>48.0</td>\n",
       "      <td>0.00106</td>\n",
       "      <td>1</td>\n",
       "      <td>10.5</td>\n",
       "      <td>90</td>\n",
       "      <td>4</td>\n",
       "      <td>20</td>\n",
       "      <td>1</td>\n",
       "      <td>15.0</td>\n",
       "      <td>https://pubs.rsc.org/en/content/articlepdf/201...</td>\n",
       "    </tr>\n",
       "    <tr>\n",
       "      <th>4</th>\n",
       "      <td>0.00100</td>\n",
       "      <td>2.0</td>\n",
       "      <td>0.001</td>\n",
       "      <td>48.0</td>\n",
       "      <td>0.00355</td>\n",
       "      <td>1</td>\n",
       "      <td>10.5</td>\n",
       "      <td>90</td>\n",
       "      <td>4</td>\n",
       "      <td>20</td>\n",
       "      <td>1</td>\n",
       "      <td>20.0</td>\n",
       "      <td>https://pubs.rsc.org/en/content/articlepdf/201...</td>\n",
       "    </tr>\n",
       "  </tbody>\n",
       "</table>\n",
       "</div>"
      ],
      "text/plain": [
       "        OX  OX_S     RE  RE_S        S  SS    pH   T  CT   t  St  Size  \\\n",
       "0  0.00100   2.0  0.002  48.0  0.00428   1  10.5  90   4  20   1   5.0   \n",
       "1  0.00100   2.0  0.002  48.0  0.00355   1  10.5  90   4  20   1   7.0   \n",
       "2  0.00117   2.0  0.002  48.0  0.00200   1  10.5  90   4  20   1  10.0   \n",
       "3  0.00100   2.0  0.001  48.0  0.00106   1  10.5  90   4  20   1  15.0   \n",
       "4  0.00100   2.0  0.001  48.0  0.00355   1  10.5  90   4  20   1  20.0   \n",
       "\n",
       "                                           Reference  \n",
       "0  https://pubs.rsc.org/en/content/articlepdf/201...  \n",
       "1  https://pubs.rsc.org/en/content/articlepdf/201...  \n",
       "2  https://pubs.rsc.org/en/content/articlepdf/201...  \n",
       "3  https://pubs.rsc.org/en/content/articlepdf/201...  \n",
       "4  https://pubs.rsc.org/en/content/articlepdf/201...  "
      ]
     },
     "execution_count": 2,
     "metadata": {},
     "output_type": "execute_result"
    }
   ],
   "source": [
    "df = pd.read_excel('AgNPs_dataset.xlsx')\n",
    "df.head()"
   ]
  },
  {
   "cell_type": "code",
   "execution_count": 3,
   "id": "3be4d887-7003-4e91-96d7-ec2224e51f9b",
   "metadata": {
    "tags": []
   },
   "outputs": [
    {
     "data": {
      "text/plain": [
       "(54, 13)"
      ]
     },
     "execution_count": 3,
     "metadata": {},
     "output_type": "execute_result"
    }
   ],
   "source": [
    "df.shape"
   ]
  },
  {
   "cell_type": "code",
   "execution_count": 4,
   "id": "00522e94-88b6-4f2e-9542-204a53e3d0de",
   "metadata": {
    "tags": []
   },
   "outputs": [
    {
     "data": {
      "text/html": [
       "<div>\n",
       "<style scoped>\n",
       "    .dataframe tbody tr th:only-of-type {\n",
       "        vertical-align: middle;\n",
       "    }\n",
       "\n",
       "    .dataframe tbody tr th {\n",
       "        vertical-align: top;\n",
       "    }\n",
       "\n",
       "    .dataframe thead th {\n",
       "        text-align: right;\n",
       "    }\n",
       "</style>\n",
       "<table border=\"1\" class=\"dataframe\">\n",
       "  <thead>\n",
       "    <tr style=\"text-align: right;\">\n",
       "      <th></th>\n",
       "      <th>count</th>\n",
       "      <th>mean</th>\n",
       "      <th>std</th>\n",
       "      <th>min</th>\n",
       "      <th>25%</th>\n",
       "      <th>50%</th>\n",
       "      <th>75%</th>\n",
       "      <th>max</th>\n",
       "    </tr>\n",
       "  </thead>\n",
       "  <tbody>\n",
       "    <tr>\n",
       "      <th>OX</th>\n",
       "      <td>54.0</td>\n",
       "      <td>0.012837</td>\n",
       "      <td>0.031174</td>\n",
       "      <td>0.000256</td>\n",
       "      <td>0.001000</td>\n",
       "      <td>0.001282</td>\n",
       "      <td>0.002308</td>\n",
       "      <td>0.1000</td>\n",
       "    </tr>\n",
       "    <tr>\n",
       "      <th>OX_S</th>\n",
       "      <td>54.0</td>\n",
       "      <td>101.001481</td>\n",
       "      <td>95.231652</td>\n",
       "      <td>0.080000</td>\n",
       "      <td>2.000000</td>\n",
       "      <td>180.000000</td>\n",
       "      <td>195.000000</td>\n",
       "      <td>195.0000</td>\n",
       "    </tr>\n",
       "    <tr>\n",
       "      <th>RE</th>\n",
       "      <td>54.0</td>\n",
       "      <td>0.036976</td>\n",
       "      <td>0.104931</td>\n",
       "      <td>0.000005</td>\n",
       "      <td>0.000600</td>\n",
       "      <td>0.002000</td>\n",
       "      <td>0.050000</td>\n",
       "      <td>0.7618</td>\n",
       "    </tr>\n",
       "    <tr>\n",
       "      <th>RE_S</th>\n",
       "      <td>54.0</td>\n",
       "      <td>24.984259</td>\n",
       "      <td>30.912841</td>\n",
       "      <td>0.250000</td>\n",
       "      <td>5.000000</td>\n",
       "      <td>8.000000</td>\n",
       "      <td>43.750000</td>\n",
       "      <td>100.0000</td>\n",
       "    </tr>\n",
       "    <tr>\n",
       "      <th>S</th>\n",
       "      <td>54.0</td>\n",
       "      <td>0.073086</td>\n",
       "      <td>0.306564</td>\n",
       "      <td>0.000256</td>\n",
       "      <td>0.001282</td>\n",
       "      <td>0.002329</td>\n",
       "      <td>0.003405</td>\n",
       "      <td>2.1980</td>\n",
       "    </tr>\n",
       "    <tr>\n",
       "      <th>SS</th>\n",
       "      <td>54.0</td>\n",
       "      <td>0.648148</td>\n",
       "      <td>0.677326</td>\n",
       "      <td>0.000000</td>\n",
       "      <td>0.000000</td>\n",
       "      <td>1.000000</td>\n",
       "      <td>1.000000</td>\n",
       "      <td>2.0000</td>\n",
       "    </tr>\n",
       "    <tr>\n",
       "      <th>pH</th>\n",
       "      <td>54.0</td>\n",
       "      <td>8.981296</td>\n",
       "      <td>2.216078</td>\n",
       "      <td>3.320000</td>\n",
       "      <td>9.000000</td>\n",
       "      <td>10.000000</td>\n",
       "      <td>10.000000</td>\n",
       "      <td>11.0000</td>\n",
       "    </tr>\n",
       "    <tr>\n",
       "      <th>T</th>\n",
       "      <td>54.0</td>\n",
       "      <td>38.092593</td>\n",
       "      <td>37.767545</td>\n",
       "      <td>7.000000</td>\n",
       "      <td>8.000000</td>\n",
       "      <td>20.000000</td>\n",
       "      <td>90.000000</td>\n",
       "      <td>100.0000</td>\n",
       "    </tr>\n",
       "    <tr>\n",
       "      <th>CT</th>\n",
       "      <td>54.0</td>\n",
       "      <td>9.574074</td>\n",
       "      <td>9.000214</td>\n",
       "      <td>4.000000</td>\n",
       "      <td>4.000000</td>\n",
       "      <td>4.000000</td>\n",
       "      <td>8.000000</td>\n",
       "      <td>30.0000</td>\n",
       "    </tr>\n",
       "    <tr>\n",
       "      <th>t</th>\n",
       "      <td>54.0</td>\n",
       "      <td>70.666667</td>\n",
       "      <td>271.978565</td>\n",
       "      <td>3.000000</td>\n",
       "      <td>3.000000</td>\n",
       "      <td>15.000000</td>\n",
       "      <td>20.000000</td>\n",
       "      <td>1440.0000</td>\n",
       "    </tr>\n",
       "    <tr>\n",
       "      <th>St</th>\n",
       "      <td>54.0</td>\n",
       "      <td>1.000000</td>\n",
       "      <td>0.000000</td>\n",
       "      <td>1.000000</td>\n",
       "      <td>1.000000</td>\n",
       "      <td>1.000000</td>\n",
       "      <td>1.000000</td>\n",
       "      <td>1.0000</td>\n",
       "    </tr>\n",
       "    <tr>\n",
       "      <th>Size</th>\n",
       "      <td>54.0</td>\n",
       "      <td>45.447963</td>\n",
       "      <td>63.885407</td>\n",
       "      <td>1.510000</td>\n",
       "      <td>13.995000</td>\n",
       "      <td>28.475000</td>\n",
       "      <td>56.250000</td>\n",
       "      <td>372.6000</td>\n",
       "    </tr>\n",
       "  </tbody>\n",
       "</table>\n",
       "</div>"
      ],
      "text/plain": [
       "      count        mean         std       min        25%         50%  \\\n",
       "OX     54.0    0.012837    0.031174  0.000256   0.001000    0.001282   \n",
       "OX_S   54.0  101.001481   95.231652  0.080000   2.000000  180.000000   \n",
       "RE     54.0    0.036976    0.104931  0.000005   0.000600    0.002000   \n",
       "RE_S   54.0   24.984259   30.912841  0.250000   5.000000    8.000000   \n",
       "S      54.0    0.073086    0.306564  0.000256   0.001282    0.002329   \n",
       "SS     54.0    0.648148    0.677326  0.000000   0.000000    1.000000   \n",
       "pH     54.0    8.981296    2.216078  3.320000   9.000000   10.000000   \n",
       "T      54.0   38.092593   37.767545  7.000000   8.000000   20.000000   \n",
       "CT     54.0    9.574074    9.000214  4.000000   4.000000    4.000000   \n",
       "t      54.0   70.666667  271.978565  3.000000   3.000000   15.000000   \n",
       "St     54.0    1.000000    0.000000  1.000000   1.000000    1.000000   \n",
       "Size   54.0   45.447963   63.885407  1.510000  13.995000   28.475000   \n",
       "\n",
       "             75%        max  \n",
       "OX      0.002308     0.1000  \n",
       "OX_S  195.000000   195.0000  \n",
       "RE      0.050000     0.7618  \n",
       "RE_S   43.750000   100.0000  \n",
       "S       0.003405     2.1980  \n",
       "SS      1.000000     2.0000  \n",
       "pH     10.000000    11.0000  \n",
       "T      90.000000   100.0000  \n",
       "CT      8.000000    30.0000  \n",
       "t      20.000000  1440.0000  \n",
       "St      1.000000     1.0000  \n",
       "Size   56.250000   372.6000  "
      ]
     },
     "execution_count": 4,
     "metadata": {},
     "output_type": "execute_result"
    }
   ],
   "source": [
    "df.describe().T"
   ]
  },
  {
   "cell_type": "markdown",
   "id": "cd92065c-ceff-400a-8e87-505bd119d34d",
   "metadata": {},
   "source": [
    "Variable description"
   ]
  },
  {
   "cell_type": "markdown",
   "id": "6f7f9aa5-37dd-49e1-942e-7037e730ba2c",
   "metadata": {},
   "source": [
    "- OX: Molar concentration of the oxidant agent in mol dm-3\n",
    "- OX_S: Volume of the OX solution in ml\n",
    "- RE: Molar concentration of the reductant agent in mol dm-3\n",
    "- RE_S: Volume of the RE solution in ml\n",
    "- S: Molar concentration of the surfactant in mol dm-3\n",
    "- SS: 0-if the stabilizer was added first to the OX solution and 1-if the stabilizer was added first to the RE solution. Finally, 2-if the stabilizer was added in each solution\n",
    "- pH: Aproximated pH of the reaction\n",
    "- T: Final stage temperature of the reaction in ºC\n",
    "- CT: Temperature at which the NPs were storaged in ºC\n",
    "- t: Time from the OX solution was added to the RE solution until the change of coloration was showed in minutes\n",
    "- St: Stirring (1: yes, 0: no)\n",
    "- Size: Size of the Ag NPs in nanometers (nm)"
   ]
  },
  {
   "cell_type": "markdown",
   "id": "e787cc53-22a1-4640-bce4-3154af439bbc",
   "metadata": {},
   "source": [
    "2. VISUALIZATION"
   ]
  },
  {
   "cell_type": "code",
   "execution_count": 5,
   "id": "fe35f855-488e-48d2-8abd-67500660a2ec",
   "metadata": {
    "tags": []
   },
   "outputs": [
    {
     "data": {
      "image/png": "[encoded data removed]",
      "text/plain": [
       "<Figure size 1500x1500 with 30 Axes>"
      ]
     },
     "metadata": {},
     "output_type": "display_data"
    }
   ],
   "source": [
    "composition = df[['OX', 'RE', 'S']]\n",
    "composition.plot(kind=\"density\", layout=(6,5),subplots=True,sharex=False, sharey=False, figsize=(15,15));\n",
    "plt.suptitle(\"Chemical Composition Distribution\",\n",
    "             x=0.5, y=1.05, ha='right', fontsize='xx-large');\n",
    "plt.tight_layout()"
   ]
  },
  {
   "cell_type": "code",
   "execution_count": 6,
   "id": "80f09559-0076-4c09-80cb-b4d1c13829cf",
   "metadata": {
    "tags": []
   },
   "outputs": [
    {
     "data": {
      "image/png": "[encoded data removed]",
      "text/plain": [
       "<Figure size 1000x1000 with 4 Axes>"
      ]
     },
     "metadata": {},
     "output_type": "display_data"
    }
   ],
   "source": [
    "synthesis_parameters = df[['pH', 'T', 'CT', 't']]\n",
    "synthesis_parameters.hist(figsize=(10, 10));\n",
    "plt.suptitle(\"Synthesis Conditions - pH, Temperature, Cold Temperature and Time\",\n",
    "             x=0.5, y=1.05, ha='center', fontsize='xx-large');\n",
    "plt.tight_layout();"
   ]
  },
  {
   "cell_type": "markdown",
   "id": "2fe27b6d-f912-4774-b806-2c22ef329101",
   "metadata": {},
   "source": [
    "3. MODELING"
   ]
  },
  {
   "cell_type": "markdown",
   "id": "0a25851c-435b-4c3e-95ce-2090d64ae382",
   "metadata": {},
   "source": [
    "This project trains three diferent models in order to evaluate which of them works better in the asigned task (Ag NPs size prediction).\n",
    "- The first model (linear regresion model) will be called \"Model 1\".\n",
    "- The second model (4-layer neural network) will be called \"Model 2\".\n",
    "- The third model (3-layer neural network) will be called \"Model 3\"."
   ]
  },
  {
   "cell_type": "markdown",
   "id": "fb45c82c-d84f-42b4-bc90-e299e2d8fcde",
   "metadata": {},
   "source": [
    "For training the models we have to select and save all the columns of the dataset that we will be using as features, as well as the target column."
   ]
  },
  {
   "cell_type": "markdown",
   "id": "2723e238-ad94-4359-a7f2-1b28eb2a463a",
   "metadata": {},
   "source": [
    "For training the models we have to select and save all the columns of the dataset that we will be using as features, as well as the target column."
   ]
  },
  {
   "cell_type": "code",
   "execution_count": 7,
   "id": "77cfb461-9f25-493e-800d-7a8b527efdaf",
   "metadata": {
    "tags": []
   },
   "outputs": [],
   "source": [
    "x = df[['OX', 'OX_S', 'RE', 'RE_S', 'S', 'SS', 'pH', 'T', 't']].to_numpy()"
   ]
  },
  {
   "cell_type": "code",
   "execution_count": 8,
   "id": "9880762b-105c-480a-be70-b91c52978c6d",
   "metadata": {
    "tags": []
   },
   "outputs": [
    {
     "data": {
      "text/plain": [
       "(54, 9)"
      ]
     },
     "execution_count": 8,
     "metadata": {},
     "output_type": "execute_result"
    }
   ],
   "source": [
    "x.shape"
   ]
  },
  {
   "cell_type": "markdown",
   "id": "52609d76-382f-4038-9998-3db115958bba",
   "metadata": {},
   "source": [
    "The vector of target values (AgsNPs sizes) is.-"
   ]
  },
  {
   "cell_type": "code",
   "execution_count": 9,
   "id": "f350177e-9ed4-42e7-a9b3-cdc2c6f9144c",
   "metadata": {
    "tags": []
   },
   "outputs": [],
   "source": [
    "y = df[['Size']].to_numpy()\n",
    "y = y.ravel() #To reshape the array in a 1D vector (m,)"
   ]
  },
  {
   "cell_type": "code",
   "execution_count": 10,
   "id": "106a729f-6913-408a-9408-b29c49f1df6f",
   "metadata": {
    "tags": []
   },
   "outputs": [
    {
     "data": {
      "text/plain": [
       "(54,)"
      ]
     },
     "execution_count": 10,
     "metadata": {},
     "output_type": "execute_result"
    }
   ],
   "source": [
    "y.shape"
   ]
  },
  {
   "cell_type": "markdown",
   "id": "b1785d82-2e1b-4111-ac3d-0eee6d0e756a",
   "metadata": {},
   "source": [
    "Finally we have to split the vectors in order to create a cross validation set of data."
   ]
  },
  {
   "cell_type": "code",
   "execution_count": 11,
   "id": "f0e56832-ac3d-454f-bd13-dd1cb1f9424f",
   "metadata": {
    "tags": []
   },
   "outputs": [],
   "source": [
    "# We obtain the 80% of the data set as the training set, and the 20% left is used as the cross validation set.\n",
    "x_train, x_cv, y_train, y_cv = train_test_split(x, y, test_size=0.20, random_state=1)"
   ]
  },
  {
   "cell_type": "code",
   "execution_count": 12,
   "id": "31a76bc8-1cb6-49a5-9857-e92134e627d2",
   "metadata": {
    "tags": []
   },
   "outputs": [
    {
     "data": {
      "text/plain": [
       "(43, 9)"
      ]
     },
     "execution_count": 12,
     "metadata": {},
     "output_type": "execute_result"
    }
   ],
   "source": [
    "x_train.shape"
   ]
  },
  {
   "cell_type": "code",
   "execution_count": 13,
   "id": "34e19903-1930-4c6c-a712-ecabf8b0b099",
   "metadata": {
    "tags": []
   },
   "outputs": [
    {
     "data": {
      "text/plain": [
       "(11, 9)"
      ]
     },
     "execution_count": 13,
     "metadata": {},
     "output_type": "execute_result"
    }
   ],
   "source": [
    "x_cv.shape"
   ]
  },
  {
   "cell_type": "markdown",
   "id": "88f63ff8-bdf9-4f08-acb9-22247dfab28b",
   "metadata": {},
   "source": [
    "MODEL 1 Creation & training."
   ]
  },
  {
   "cell_type": "markdown",
   "id": "f73a6e12-1907-4f4a-92a0-d377a7a7f55d",
   "metadata": {},
   "source": [
    "All the functions for creating and training the models are coded in the \"AgNPs_functions\" notebook. All we have to do now is to call the functions we need."
   ]
  },
  {
   "cell_type": "code",
   "execution_count": 14,
   "id": "2d2c61a4-5637-4287-8bd1-4d9f3980ec1f",
   "metadata": {
    "tags": []
   },
   "outputs": [],
   "source": [
    "#Creation and training of Model 1.-\n",
    "scaler, model = linear_reg(x_train, y_train)"
   ]
  },
  {
   "cell_type": "markdown",
   "id": "cf3c812c-b90d-4b2f-b976-bf144c6872d6",
   "metadata": {},
   "source": [
    "Evaulating the model"
   ]
  },
  {
   "cell_type": "code",
   "execution_count": 15,
   "id": "f4f451b8-04a7-4db8-8226-bd185cd03769",
   "metadata": {
    "tags": []
   },
   "outputs": [],
   "source": [
    "y_cv_pred = prediction(x_cv, model, scaler) #Making predictions over the cross validation set"
   ]
  },
  {
   "cell_type": "code",
   "execution_count": 16,
   "id": "179cf947-c12a-44a9-8765-e616282a235d",
   "metadata": {
    "tags": []
   },
   "outputs": [
    {
     "name": "stdout",
     "output_type": "stream",
     "text": [
      "100.0\n",
      "Predicted values [  75.18818288   40.61979328   75.42140944   75.18818288   49.11838702\n",
      " -945.38070738  101.62426642   45.95982797  101.35814419   54.81458202\n",
      "    6.83831562]\n",
      "Target values [13.66 10.   49.17 15.45 33.14 15.   53.56 19.04 15.25 74.    2.02]\n"
     ]
    }
   ],
   "source": [
    "percentaje_error = val_model(y_cv, y_cv_pred)\n",
    "print(percentaje_error)\n",
    "print('Predicted values', y_cv_pred)\n",
    "print('Target values', y_cv)"
   ]
  },
  {
   "cell_type": "code",
   "execution_count": 17,
   "id": "0b742f88-56b0-4715-a5d6-5cc917873e9e",
   "metadata": {
    "tags": []
   },
   "outputs": [
    {
     "name": "stdout",
     "output_type": "stream",
     "text": [
      "Actual value:  13.66 / Predicted value:  75.18818288323936\n",
      "Actual value:  10.0 / Predicted value:  40.61979327687693\n",
      "Actual value:  49.17 / Predicted value:  75.42140943727618\n",
      "Actual value:  15.45 / Predicted value:  75.18818288323936\n",
      "Actual value:  33.14 / Predicted value:  49.118387016848075\n",
      "Actual value:  15.0 / Predicted value:  -945.3807073766047\n",
      "Actual value:  53.56 / Predicted value:  101.62426641733157\n",
      "Actual value:  19.04 / Predicted value:  45.959827973921904\n",
      "Actual value:  15.25 / Predicted value:  101.3581441900034\n",
      "Actual value:  74.0 / Predicted value:  54.81458202140722\n",
      "Actual value:  2.02 / Predicted value:  6.838315618156152\n"
     ]
    }
   ],
   "source": [
    "l = len(y_cv)\n",
    "for i in range(l):\n",
    "    print('Actual value: ', y_cv[i], '/', 'Predicted value: ', y_cv_pred[i])"
   ]
  },
  {
   "cell_type": "code",
   "execution_count": 18,
   "id": "9a07e1aa-8e92-4867-bdee-301189ff7d64",
   "metadata": {
    "tags": []
   },
   "outputs": [
    {
     "data": {
      "image/png": "[encoded data removed]",
      "text/plain": [
       "<Figure size 640x480 with 1 Axes>"
      ]
     },
     "metadata": {},
     "output_type": "display_data"
    }
   ],
   "source": [
    "X1 = []\n",
    "for value in x_cv:\n",
    "    n = value[3]\n",
    "    X1.append(n)\n",
    "y_cv = list(y_cv)\n",
    "X1 = list(X1)\n",
    "plt.plot(X1,y_cv,'vb',label=\"y_cv\")\n",
    "plt.plot(X1,y_cv_pred,'vr',label=\"y_cv_pred\") \n",
    "plt.legend(loc=\"upper left\")\n",
    "plt.show()"
   ]
  },
  {
   "cell_type": "markdown",
   "id": "f66700ca-964b-45b9-adb7-297672c11d1a",
   "metadata": {},
   "source": [
    "REFERENCES\n",
    "\n",
    "[1] Pryshchepa, O., Pomastowski, P., & Buszewski, B. (2020). Silver nanoparticles: Synthesis, investigation techniques, and properties. Advances in Colloid and Interface Science, 102246. doi:10.1016/j.cis.2020.102246 \n",
    "\n",
    "[2] Akter, M., Sikder, M. T., Rahman, M. M., Ullah, A. K. M. A., Hossain, K. F. B., Banik, S., Hosokawa, T., Saito, T., & Kurasaki, M. (2018). A systematic review on silver nanoparticles-induced cytotoxicity: Physicochemical properties and perspectives. Journal of Advanced Research, 9, 1–16. https://doi.org/10.1016/j.jare.2017.10.008\n",
    "\n",
    "[3] Camacho-Jiménez, L., Álvarez-Sánchez, A. R., & Mejía-Ruíz, C. H. (2020). Silver nanoparticles (AgNPs) as antimicrobials in marine shrimp farming: A review. Aquaculture Reports, 18. https://doi.org/10.1016/j.aqrep.2020.100512\n",
    "\n",
    "[4] Hassanien, A. S., & Khatoon, U. T. (2018). Synthesis and characterization of stable silver nanoparticles, Ag-NPs: Discussion on the applications of Ag-NPs as antimicrobial agents. Physica B: Condensed Matter. doi:10.1016/j.physb.2018.11.004 "
   ]
  },
  {
   "cell_type": "code",
   "execution_count": null,
   "id": "2bdcaca9-2cc0-4d47-bfc7-9a9e8529abb2",
   "metadata": {},
   "outputs": [],
   "source": []
  }
 ],
 "metadata": {
  "kernelspec": {
   "display_name": "Python 3 (ipykernel)",
   "language": "python",
   "name": "python3"
  },
  "language_info": {
   "codemirror_mode": {
    "name": "ipython",
    "version": 3
   },
   "file_extension": ".py",
   "mimetype": "text/x-python",
   "name": "python",
   "nbconvert_exporter": "python",
   "pygments_lexer": "ipython3",
   "version": "3.9.2"
  }
 },
 "nbformat": 4,
 "nbformat_minor": 5
}
