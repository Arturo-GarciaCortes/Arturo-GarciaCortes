{
 "cells": [
  {
   "cell_type": "markdown",
   "id": "b279ebae-ff07-4cfc-a16a-7f1b081800fb",
   "metadata": {},
   "source": [
    "AgNPS_functions"
   ]
  },
  {
   "cell_type": "markdown",
   "id": "130cf89e-410c-47be-916d-74f224e93a3f",
   "metadata": {},
   "source": [
    "In this jupyter notebook there will be all the necessary functions for carring out the project \"Ag NPs size prediction\". "
   ]
  },
  {
   "cell_type": "code",
   "execution_count": 13,
   "id": "18017567-3790-4aed-b8fa-b945094a78aa",
   "metadata": {
    "tags": []
   },
   "outputs": [],
   "source": [
    "#IMPORT LIBRARIES\n",
    "\n",
    "import pandas as pd\n",
    "import numpy as np\n",
    "import tensorflow as tf\n",
    "from tensorflow.keras.models import Sequential\n",
    "from tensorflow.keras.activations import linear, relu\n",
    "from tensorflow.keras.layers import Dense\n",
    "from tensorflow.keras.losses import BinaryCrossentropy\n",
    "from sklearn.linear_model import SGDRegressor\n",
    "from sklearn.preprocessing import StandardScaler"
   ]
  },
  {
   "cell_type": "markdown",
   "id": "e7338c94-8d9c-42bc-b291-fb018d6f14f7",
   "metadata": {},
   "source": [
    "Creation of the linear regression model"
   ]
  },
  {
   "cell_type": "code",
   "execution_count": 14,
   "id": "6907816c-e85e-440b-8a15-2a68b54b42f2",
   "metadata": {
    "tags": []
   },
   "outputs": [],
   "source": [
    "def linear_reg(X, y):\n",
    "    \"\"\"\n",
    "    Compute the regression model which predicts Ag NPs size. \n",
    "    \n",
    "    X (ndarray (m,n): Training data, m examples with n features\n",
    "    y (ndarray (m,)): Training target values\n",
    "    \n",
    "    \"\"\"\n",
    "    \n",
    "    #Normalizing Training data\n",
    "    scaler = StandardScaler()\n",
    "    X = scaler.fit_transform(X)\n",
    "    \n",
    "    #Model creation\n",
    "    model = SGDRegressor(max_iter=10000)\n",
    "    model.fit(X, y)\n",
    "    \n",
    "    return scaler, model"
   ]
  },
  {
   "cell_type": "markdown",
   "id": "eb7e82b7-d368-4151-be8d-e0ccb7fa89cf",
   "metadata": {},
   "source": [
    "Creation of a neural network"
   ]
  },
  {
   "cell_type": "code",
   "execution_count": 20,
   "id": "13ce14f9-34ea-47ce-8939-95cd45585ff6",
   "metadata": {
    "tags": []
   },
   "outputs": [],
   "source": [
    "def Neural_N1(X, y):\n",
    "    \"\"\"\n",
    "    Creates a 4-layer neural network which predicts the Ag NP size.\n",
    "    \n",
    "    X (ndarray (m,n): Training data, m examples with n features\n",
    "    y (ndarray (m,)): Training target values\n",
    "    \n",
    "    \"\"\"\n",
    "   #Variable engineering\n",
    "    neural_scaler1 = StandardScaler()\n",
    "    X = neural_scaler1.fit_transform(X) #Normalizing data\n",
    "    \n",
    "    #Neural network architecture\n",
    "    tf.random.set_seed(1234)  #To obtain concistent results \n",
    "    \n",
    "    model = Sequential( #input_shape = number of features\n",
    "        [\n",
    "        Dense(7, input_shape=(8,), activation='relu', name='layer1', kernel_regularizer=tf.keras.regularizers.l2(0.01)),\n",
    "        Dense(5, activation='relu',  name='layer2', kernel_regularizer=tf.keras.regularizers.l2(0.01)),\n",
    "        Dense(3, activation='relu',  name='layer3', kernel_regularizer=tf.keras.regularizers.l2(0.01)),\n",
    "        Dense(1, activation='relu', name='layer4', kernel_regularizer=tf.keras.regularizers.l2(0.01))\n",
    "    ]\n",
    "    )\n",
    "    \n",
    "    #Cargar los parámetros de una red neuronal entrenada previamente en el nuevo modelo\n",
    "    #model.load_weights('my_model_weights.h5')\n",
    "    \n",
    "    #Model compilation\n",
    "    model.compile(\n",
    "        loss = tf.keras.losses.MeanSquaredError(), #Loss function\n",
    "        optimizer = tf.keras.optimizers.Adam(learning_rate = 0.001) #Adam minimization algorithm\n",
    "    )\n",
    "    \n",
    "    #Model training\n",
    "    model.fit(X, y, epochs=400)\n",
    "    \n",
    "    return model, neural_scaler1"
   ]
  },
  {
   "cell_type": "code",
   "execution_count": 22,
   "id": "a480f059-19e4-4220-bafe-885d2491a565",
   "metadata": {
    "tags": []
   },
   "outputs": [],
   "source": [
    "def Neural_N2(X, y):\n",
    "    \"\"\"\n",
    "    Creates a 3-layer neural network which predicts the Ag NP size.\n",
    "    \n",
    "    X (ndarray (m,n): Training data, m examples with n features\n",
    "    y (ndarray (m,)): Training target values\n",
    "    \n",
    "    \"\"\"\n",
    "   #Variable engineering\n",
    "    neural_scaler2 = StandardScaler()\n",
    "    X = neural_scaler2.fit_transform(X) #Normalizing data\n",
    "    \n",
    "    #Neural network architecture\n",
    "    tf.random.set_seed(1234)  #To obtain concistent results \n",
    "    \n",
    "    model = Sequential( #input_shape = number of features\n",
    "        [\n",
    "        Dense(5, input_shape=(8,), activation='relu', name='layer1', kernel_regularizer=tf.keras.regularizers.l2(0.01)),\n",
    "        Dense(3, activation='relu',  name='layer2', kernel_regularizer=tf.keras.regularizers.l2(0.01)),\n",
    "        Dense(1, activation='relu', name='layer4', kernel_regularizer=tf.keras.regularizers.l2(0.01))\n",
    "    ]\n",
    "    )\n",
    "    \n",
    "    #Cargar los parámetros de una red neuronal entrenada previamente en el nuevo modelo\n",
    "    #model.load_weights('my_model_weights.h5')\n",
    "    \n",
    "    #Model compilation\n",
    "    model.compile(\n",
    "        loss = tf.keras.losses.MeanSquaredError(), #Loss function\n",
    "        optimizer = tf.keras.optimizers.Adam(learning_rate = 0.001) #Adam minimization algorithm\n",
    "    )\n",
    "    \n",
    "    #Model training\n",
    "    model.fit(X, y, epochs=400)\n",
    "    \n",
    "    return model, neural_scaler2"
   ]
  },
  {
   "cell_type": "markdown",
   "id": "16845b7c-59b3-4bb8-862b-60ce3a6ad162",
   "metadata": {},
   "source": [
    "Make a prediction"
   ]
  },
  {
   "cell_type": "code",
   "execution_count": 23,
   "id": "aa705f55-8532-4f0f-93eb-877cb6ab03b9",
   "metadata": {
    "tags": []
   },
   "outputs": [],
   "source": [
    "def prediction(x, model, scaler):\n",
    "    \"\"\"\n",
    "    Make predictions of Ag NPs size based in a linear regression model\n",
    "    \n",
    "    x (ndarray (m,n): Data for predictions, m predictions with n features\n",
    "    model: model for regression \n",
    "    y_pred (ndarray (m,)): Predictions made by the model\n",
    "\n",
    "    \"\"\"\n",
    "    #Normalizing entry data\n",
    "    X = scaler.transform(x)\n",
    "    \n",
    "    #Make a prediction\n",
    "    y_pred = model.predict(X)\n",
    "    \n",
    "    return y_pred"
   ]
  },
  {
   "cell_type": "markdown",
   "id": "25c42a88-f0d3-4f3b-8f07-d58aa039b7c7",
   "metadata": {},
   "source": [
    "Evaluate a model"
   ]
  },
  {
   "cell_type": "code",
   "execution_count": 24,
   "id": "44d196e3-e9dc-4bbb-9b69-00f7b25b29b3",
   "metadata": {
    "tags": []
   },
   "outputs": [],
   "source": [
    "def val_model(y_t, y_p):\n",
    "    \"\"\"\n",
    "    Evalúa la exactitud del modelo de clasificación comparando los valores de y calculados por dicho modelo, con los valores de y reales\n",
    "    \n",
    "    y_t (ndarray (m,)): Target values\n",
    "    y_p (ndarray (m,)): Predicted values\n",
    "    \n",
    "    \"\"\"\n",
    "    # Calcular la fracción y el porcentaje de los datos que el modelo no clasifica correctamente (cuando y_p[i] es diferente que y_t[i])\n",
    "    fraction_error = np.mean(y_p != y_t)\n",
    "    percentaje_error = fraction_error * 100\n",
    "    \n",
    "    return percentaje_error"
   ]
  },
  {
   "cell_type": "code",
   "execution_count": null,
   "id": "6f45e6ff-2963-4ac9-8881-5f5f71f649b1",
   "metadata": {},
   "outputs": [],
   "source": []
  }
 ],
 "metadata": {
  "kernelspec": {
   "display_name": "Python 3 (ipykernel)",
   "language": "python",
   "name": "python3"
  },
  "language_info": {
   "codemirror_mode": {
    "name": "ipython",
    "version": 3
   },
   "file_extension": ".py",
   "mimetype": "text/x-python",
   "name": "python",
   "nbconvert_exporter": "python",
   "pygments_lexer": "ipython3",
   "version": "3.9.2"
  }
 },
 "nbformat": 4,
 "nbformat_minor": 5
}
